{
 "cells": [
  {
   "cell_type": "code",
   "execution_count": 6,
   "metadata": {},
   "outputs": [
    {
     "name": "stdout",
     "output_type": "stream",
     "text": [
      "Determinant of RGB matrix: 1.0 (Nonzero means they span R3)\n",
      "CMYK Vectors:\n",
      "[[0. 1. 1. 0.]\n",
      " [1. 0. 1. 0.]\n",
      " [1. 1. 0. 0.]]\n",
      "Rank of CMYK matrix: 3 (Must be 4 to span R4)\n"
     ]
    }
   ],
   "source": [
    "import numpy as np\n",
    "import matplotlib.pyplot as plt\n",
    "from matplotlib.patches import Rectangle\n",
    "from PIL import Image\n",
    "\n",
    "\n",
    "# --- PROBLEM 1: RGB to CMYK Conversion and Span Check ---\n",
    "\n",
    "# Define the RGB vectors\n",
    "rgb_vectors = np.array([\n",
    "    [1, 0, 0],  # Pure Red\n",
    "    [0, 1, 0],  # Pure Green\n",
    "    [0, 0, 1]   # Pure Blue\n",
    "])\n",
    "\n",
    "# Compute determinant to check if they span R3\n",
    "det_rgb = np.linalg.det(rgb_vectors)\n",
    "print(f\"Determinant of RGB matrix: {det_rgb} (Nonzero means they span R3)\")\n",
    "\n",
    "# Function to convert RGB to CMYK\n",
    "def rgb_to_cmyk(r, g, b):\n",
    "    k = 1 - max(r, g, b)\n",
    "    if k == 1:\n",
    "        return np.array([0, 0, 0, 1])  # Pure black case\n",
    "    c = (1 - r - k) / (1 - k)\n",
    "    m = (1 - g - k) / (1 - k)\n",
    "    y = (1 - b - k) / (1 - k)\n",
    "    return np.array([c, m, y, k])\n",
    "\n",
    "# Convert RGB vectors to CMYK\n",
    "cmyk_vectors = np.array([rgb_to_cmyk(*color) for color in rgb_vectors])\n",
    "print(f\"CMYK Vectors:\\n{cmyk_vectors}\")\n",
    "\n",
    "# Compute rank to check if they span R4\n",
    "rank_cmyk = np.linalg.matrix_rank(cmyk_vectors)\n",
    "print(f\"Rank of CMYK matrix: {rank_cmyk} (Must be 4 to span R4)\")"
   ]
  }
 ],
 "metadata": {
  "kernelspec": {
   "display_name": "base",
   "language": "python",
   "name": "python3"
  },
  "language_info": {
   "codemirror_mode": {
    "name": "ipython",
    "version": 3
   },
   "file_extension": ".py",
   "mimetype": "text/x-python",
   "name": "python",
   "nbconvert_exporter": "python",
   "pygments_lexer": "ipython3",
   "version": "3.12.4"
  }
 },
 "nbformat": 4,
 "nbformat_minor": 2
}
